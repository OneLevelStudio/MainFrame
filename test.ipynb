{
 "cells": [
  {
   "cell_type": "code",
   "execution_count": 1,
   "metadata": {},
   "outputs": [],
   "source": [
    "from lib.VIOCR.VIOCR import Process_VIOCR as VIOCR"
   ]
  },
  {
   "cell_type": "code",
   "execution_count": 2,
   "metadata": {},
   "outputs": [
    {
     "name": "stdout",
     "output_type": "stream",
     "text": [
      "i\n",
      "Stt | Chủng loại vật liệu | Số lương | Khối lượng\n",
      "Đvt\n",
      "(cây) | (gg)\n",
      "1 | Thép cây D10 CB400V\n",
      "Kg | 1.066 | 7.695\n",
      "2 | Thép cây D12 CB400V\n",
      "Kg | 41 | 426\n",
      "3 | Thép cây D16 CB400V\n",
      "Kg | 4\n",
      "74\n",
      "4 | Thép cây D18 CB400V\n",
      "Kg | 415 | 9.711\n",
      "5\n",
      "Thép cây D22 CB400V\n",
      "Kg | 588 | 20.501\n",
      "6\n",
      "Thép cây D25 CB400V\n",
      "Kg | 125 | 5.631\n",
      "7\n",
      "Thép cây D28 CB400V\n",
      "Kg | 593 | 33.580\n",
      "Cộng\n",
      "2.832 | 17.618\n",
      "Thuế gtct 1004\n"
     ]
    }
   ],
   "source": [
    "img_path = \"example/img (1).jpg\"\n",
    "res = VIOCR(img_path, bbox_padding=5, same_line_max_bbox_y_diff=10, new_line_char=\"\\n\", same_line_char=\" | \", print_debug=False)\n",
    "print(res)"
   ]
  }
 ],
 "metadata": {
  "kernelspec": {
   "display_name": "venv",
   "language": "python",
   "name": "python3"
  },
  "language_info": {
   "codemirror_mode": {
    "name": "ipython",
    "version": 3
   },
   "file_extension": ".py",
   "mimetype": "text/x-python",
   "name": "python",
   "nbconvert_exporter": "python",
   "pygments_lexer": "ipython3",
   "version": "3.10.10"
  }
 },
 "nbformat": 4,
 "nbformat_minor": 2
}
